{
 "cells": [
  {
   "cell_type": "markdown",
   "metadata": {},
   "source": [
    "<h1><center>No-Show Appointments</center></h1>\n",
    "<h2><center>Data Analysis</center></h2>\n",
    "<img src='https://image.flaticon.com/icons/svg/504/504180.svg'  width = 130 height = 130>\n",
    "\n",
    "<h3><center>Alhanuof Alhamad</center></h3>\n"
   ]
  },
  {
   "cell_type": "markdown",
   "metadata": {},
   "source": [
    "\n",
    "## Table of Contents\n",
    "<ul>\n",
    "<li><a href=\"#intro\">Introduction</a></li>\n",
    "<li><a href=\"#wrangling\">Data Wrangling</a></li>\n",
    "<li><a href=\"#eda\">Exploratory Data Analysis</a></li>\n",
    "<li><a href=\"#conclusions\">Conclusions</a></li>\n",
    "</ul>"
   ]
  },
  {
   "cell_type": "markdown",
   "metadata": {},
   "source": [
    "<a id='intro'></a>\n",
    "## Introduction\n",
    "\n",
    "This document provide an anlysis for a dataset with over 100k medical appointment in Brazil, the goal is to determine if the patient will show up to his\\her appointment or not. <br>\n",
    "The focuse here is on a single dependent variable that hold the show up value. <br>\n",
    "The independent variables that might or might not effect the show up value:\n",
    "<ol>\n",
    "    <li>The patient's age.</li>\n",
    "    <li>The patient's gender.</li>\n",
    "    <li>The patient's health record(if she/he has chronic diseases).</li>\n",
    "    <li>The SMS.</li>\n",
    "    <li>The duration between the scheduled day and the appointment day.</li>\n",
    "</ol>\n",
    "\n",
    "The questions that will be analysed:\n",
    "<ul>\n",
    "<li>Is the patients' age and gender will help us to predict if they will show up for their scheduled appointment?</li>\n",
    "<li>Is the patients' health record will help us to predict if they will show up for their scheduled appointment?</li>\n",
    "<li>Will the patients show up for their scheduled appointment if they've recevied a SMS?</li>\n",
    "<li>Is the duration between the day the patients scheduled thier appointment and the appointment day will help us to predict if they will show up to thier scheduled appointment?</li>\n",
    "</ul>"
   ]
  },
  {
   "cell_type": "code",
   "execution_count": 1,
   "metadata": {},
   "outputs": [],
   "source": [
    "# Importing packages needed for Analysis\n",
    "import pandas as pd\n",
    "import numpy as np\n",
    "import matplotlib.pyplot as plt\n",
    "#The magic line\n",
    "% matplotlib inline "
   ]
  },
  {
   "cell_type": "markdown",
   "metadata": {},
   "source": [
    "<a id='wrangling'></a>\n",
    "## Data Wrangling\n",
    "### Load the file and take a look to its data:"
   ]
  },
  {
   "cell_type": "code",
   "execution_count": 2,
   "metadata": {},
   "outputs": [
    {
     "data": {
      "text/html": [
       "<div>\n",
       "<style scoped>\n",
       "    .dataframe tbody tr th:only-of-type {\n",
       "        vertical-align: middle;\n",
       "    }\n",
       "\n",
       "    .dataframe tbody tr th {\n",
       "        vertical-align: top;\n",
       "    }\n",
       "\n",
       "    .dataframe thead th {\n",
       "        text-align: right;\n",
       "    }\n",
       "</style>\n",
       "<table border=\"1\" class=\"dataframe\">\n",
       "  <thead>\n",
       "    <tr style=\"text-align: right;\">\n",
       "      <th></th>\n",
       "      <th>PatientId</th>\n",
       "      <th>AppointmentID</th>\n",
       "      <th>Gender</th>\n",
       "      <th>ScheduledDay</th>\n",
       "      <th>AppointmentDay</th>\n",
       "      <th>Age</th>\n",
       "      <th>Neighbourhood</th>\n",
       "      <th>Scholarship</th>\n",
       "      <th>Hipertension</th>\n",
       "      <th>Diabetes</th>\n",
       "      <th>Alcoholism</th>\n",
       "      <th>Handcap</th>\n",
       "      <th>SMS_received</th>\n",
       "      <th>No-show</th>\n",
       "    </tr>\n",
       "  </thead>\n",
       "  <tbody>\n",
       "    <tr>\n",
       "      <th>0</th>\n",
       "      <td>2.987250e+13</td>\n",
       "      <td>5642903</td>\n",
       "      <td>F</td>\n",
       "      <td>2016-04-29T18:38:08Z</td>\n",
       "      <td>2016-04-29T00:00:00Z</td>\n",
       "      <td>62</td>\n",
       "      <td>JARDIM DA PENHA</td>\n",
       "      <td>0</td>\n",
       "      <td>1</td>\n",
       "      <td>0</td>\n",
       "      <td>0</td>\n",
       "      <td>0</td>\n",
       "      <td>0</td>\n",
       "      <td>No</td>\n",
       "    </tr>\n",
       "    <tr>\n",
       "      <th>1</th>\n",
       "      <td>5.589978e+14</td>\n",
       "      <td>5642503</td>\n",
       "      <td>M</td>\n",
       "      <td>2016-04-29T16:08:27Z</td>\n",
       "      <td>2016-04-29T00:00:00Z</td>\n",
       "      <td>56</td>\n",
       "      <td>JARDIM DA PENHA</td>\n",
       "      <td>0</td>\n",
       "      <td>0</td>\n",
       "      <td>0</td>\n",
       "      <td>0</td>\n",
       "      <td>0</td>\n",
       "      <td>0</td>\n",
       "      <td>No</td>\n",
       "    </tr>\n",
       "    <tr>\n",
       "      <th>2</th>\n",
       "      <td>4.262962e+12</td>\n",
       "      <td>5642549</td>\n",
       "      <td>F</td>\n",
       "      <td>2016-04-29T16:19:04Z</td>\n",
       "      <td>2016-04-29T00:00:00Z</td>\n",
       "      <td>62</td>\n",
       "      <td>MATA DA PRAIA</td>\n",
       "      <td>0</td>\n",
       "      <td>0</td>\n",
       "      <td>0</td>\n",
       "      <td>0</td>\n",
       "      <td>0</td>\n",
       "      <td>0</td>\n",
       "      <td>No</td>\n",
       "    </tr>\n",
       "    <tr>\n",
       "      <th>3</th>\n",
       "      <td>8.679512e+11</td>\n",
       "      <td>5642828</td>\n",
       "      <td>F</td>\n",
       "      <td>2016-04-29T17:29:31Z</td>\n",
       "      <td>2016-04-29T00:00:00Z</td>\n",
       "      <td>8</td>\n",
       "      <td>PONTAL DE CAMBURI</td>\n",
       "      <td>0</td>\n",
       "      <td>0</td>\n",
       "      <td>0</td>\n",
       "      <td>0</td>\n",
       "      <td>0</td>\n",
       "      <td>0</td>\n",
       "      <td>No</td>\n",
       "    </tr>\n",
       "    <tr>\n",
       "      <th>4</th>\n",
       "      <td>8.841186e+12</td>\n",
       "      <td>5642494</td>\n",
       "      <td>F</td>\n",
       "      <td>2016-04-29T16:07:23Z</td>\n",
       "      <td>2016-04-29T00:00:00Z</td>\n",
       "      <td>56</td>\n",
       "      <td>JARDIM DA PENHA</td>\n",
       "      <td>0</td>\n",
       "      <td>1</td>\n",
       "      <td>1</td>\n",
       "      <td>0</td>\n",
       "      <td>0</td>\n",
       "      <td>0</td>\n",
       "      <td>No</td>\n",
       "    </tr>\n",
       "  </tbody>\n",
       "</table>\n",
       "</div>"
      ],
      "text/plain": [
       "      PatientId  AppointmentID Gender          ScheduledDay  \\\n",
       "0  2.987250e+13        5642903      F  2016-04-29T18:38:08Z   \n",
       "1  5.589978e+14        5642503      M  2016-04-29T16:08:27Z   \n",
       "2  4.262962e+12        5642549      F  2016-04-29T16:19:04Z   \n",
       "3  8.679512e+11        5642828      F  2016-04-29T17:29:31Z   \n",
       "4  8.841186e+12        5642494      F  2016-04-29T16:07:23Z   \n",
       "\n",
       "         AppointmentDay  Age      Neighbourhood  Scholarship  Hipertension  \\\n",
       "0  2016-04-29T00:00:00Z   62    JARDIM DA PENHA            0             1   \n",
       "1  2016-04-29T00:00:00Z   56    JARDIM DA PENHA            0             0   \n",
       "2  2016-04-29T00:00:00Z   62      MATA DA PRAIA            0             0   \n",
       "3  2016-04-29T00:00:00Z    8  PONTAL DE CAMBURI            0             0   \n",
       "4  2016-04-29T00:00:00Z   56    JARDIM DA PENHA            0             1   \n",
       "\n",
       "   Diabetes  Alcoholism  Handcap  SMS_received No-show  \n",
       "0         0           0        0             0      No  \n",
       "1         0           0        0             0      No  \n",
       "2         0           0        0             0      No  \n",
       "3         0           0        0             0      No  \n",
       "4         1           0        0             0      No  "
      ]
     },
     "execution_count": 2,
     "metadata": {},
     "output_type": "execute_result"
    }
   ],
   "source": [
    "# Load the file: \n",
    "df = pd.read_csv('noshowappointments-kagglev2-may-2016.csv')\n",
    "#Take a look at the data\n",
    "df.head()"
   ]
  },
  {
   "cell_type": "code",
   "execution_count": 3,
   "metadata": {},
   "outputs": [
    {
     "name": "stdout",
     "output_type": "stream",
     "text": [
      "<class 'pandas.core.frame.DataFrame'>\n",
      "RangeIndex: 110527 entries, 0 to 110526\n",
      "Data columns (total 14 columns):\n",
      "PatientId         110527 non-null float64\n",
      "AppointmentID     110527 non-null int64\n",
      "Gender            110527 non-null object\n",
      "ScheduledDay      110527 non-null object\n",
      "AppointmentDay    110527 non-null object\n",
      "Age               110527 non-null int64\n",
      "Neighbourhood     110527 non-null object\n",
      "Scholarship       110527 non-null int64\n",
      "Hipertension      110527 non-null int64\n",
      "Diabetes          110527 non-null int64\n",
      "Alcoholism        110527 non-null int64\n",
      "Handcap           110527 non-null int64\n",
      "SMS_received      110527 non-null int64\n",
      "No-show           110527 non-null object\n",
      "dtypes: float64(1), int64(8), object(5)\n",
      "memory usage: 11.8+ MB\n"
     ]
    }
   ],
   "source": [
    "# Check the datatype for each column and if it has null value, \n",
    "# using info() function:\n",
    "df.info()"
   ]
  },
  {
   "cell_type": "markdown",
   "metadata": {},
   "source": [
    "There is no null vlaues, but some columns' datatype has to be converted."
   ]
  },
  {
   "cell_type": "code",
   "execution_count": 4,
   "metadata": {},
   "outputs": [
    {
     "data": {
      "text/plain": [
       "PatientId          62299\n",
       "AppointmentID     110527\n",
       "Gender                 2\n",
       "ScheduledDay      103549\n",
       "AppointmentDay        27\n",
       "Age                  104\n",
       "Neighbourhood         81\n",
       "Scholarship            2\n",
       "Hipertension           2\n",
       "Diabetes               2\n",
       "Alcoholism             2\n",
       "Handcap                5\n",
       "SMS_received           2\n",
       "No-show                2\n",
       "dtype: int64"
      ]
     },
     "execution_count": 4,
     "metadata": {},
     "output_type": "execute_result"
    }
   ],
   "source": [
    "df.nunique()"
   ]
  },
  {
   "cell_type": "markdown",
   "metadata": {},
   "source": [
    "There are 110527 appointment id which is the same as number of records, so there is no duplicate."
   ]
  },
  {
   "cell_type": "code",
   "execution_count": 5,
   "metadata": {},
   "outputs": [
    {
     "data": {
      "text/plain": [
       "Age\n",
       "-1    1\n",
       "Name: PatientId, dtype: int64"
      ]
     },
     "execution_count": 5,
     "metadata": {},
     "output_type": "execute_result"
    }
   ],
   "source": [
    "#To find the age range:\n",
    "#Youngest age:\n",
    "df.groupby('Age')['PatientId'].count().head(1)"
   ]
  },
  {
   "cell_type": "code",
   "execution_count": 6,
   "metadata": {},
   "outputs": [
    {
     "data": {
      "text/plain": [
       "Age\n",
       "115    5\n",
       "Name: PatientId, dtype: int64"
      ]
     },
     "execution_count": 6,
     "metadata": {},
     "output_type": "execute_result"
    }
   ],
   "source": [
    "#Oldest age:\n",
    "df.groupby('Age')['PatientId'].count().tail(1)"
   ]
  },
  {
   "cell_type": "code",
   "execution_count": 7,
   "metadata": {},
   "outputs": [
    {
     "data": {
      "text/plain": [
       "Gender\n",
       "F    71840\n",
       "M    38687\n",
       "Name: PatientId, dtype: int64"
      ]
     },
     "execution_count": 7,
     "metadata": {},
     "output_type": "execute_result"
    }
   ],
   "source": [
    "df.groupby('Gender')['PatientId'].count()"
   ]
  },
  {
   "cell_type": "markdown",
   "metadata": {},
   "source": [
    "Data wrangling findings:\n",
    "<ul>\n",
    "    <li>There are 110527 recoreds (appointments).</li>\n",
    "    <li>There are 62299 patients; 71840 are females, and 38687 are males.</li>\n",
    "    <li>The patient age range is; -1(which is weird) to 115.</li>\n",
    "</ul>\n",
    "\n",
    "> For the patient with age = -1, I checked if she has another record to see her age but she has only one record."
   ]
  },
  {
   "cell_type": "code",
   "execution_count": 8,
   "metadata": {},
   "outputs": [
    {
     "data": {
      "text/html": [
       "<div>\n",
       "<style scoped>\n",
       "    .dataframe tbody tr th:only-of-type {\n",
       "        vertical-align: middle;\n",
       "    }\n",
       "\n",
       "    .dataframe tbody tr th {\n",
       "        vertical-align: top;\n",
       "    }\n",
       "\n",
       "    .dataframe thead th {\n",
       "        text-align: right;\n",
       "    }\n",
       "</style>\n",
       "<table border=\"1\" class=\"dataframe\">\n",
       "  <thead>\n",
       "    <tr style=\"text-align: right;\">\n",
       "      <th></th>\n",
       "      <th>PatientId</th>\n",
       "      <th>AppointmentID</th>\n",
       "      <th>Gender</th>\n",
       "      <th>ScheduledDay</th>\n",
       "      <th>AppointmentDay</th>\n",
       "      <th>Age</th>\n",
       "      <th>Neighbourhood</th>\n",
       "      <th>Scholarship</th>\n",
       "      <th>Hipertension</th>\n",
       "      <th>Diabetes</th>\n",
       "      <th>Alcoholism</th>\n",
       "      <th>Handcap</th>\n",
       "      <th>SMS_received</th>\n",
       "      <th>No-show</th>\n",
       "    </tr>\n",
       "  </thead>\n",
       "  <tbody>\n",
       "    <tr>\n",
       "      <th>99832</th>\n",
       "      <td>4.659432e+14</td>\n",
       "      <td>5775010</td>\n",
       "      <td>F</td>\n",
       "      <td>2016-06-06T08:58:13Z</td>\n",
       "      <td>2016-06-06T00:00:00Z</td>\n",
       "      <td>-1</td>\n",
       "      <td>ROMÃO</td>\n",
       "      <td>0</td>\n",
       "      <td>0</td>\n",
       "      <td>0</td>\n",
       "      <td>0</td>\n",
       "      <td>0</td>\n",
       "      <td>0</td>\n",
       "      <td>No</td>\n",
       "    </tr>\n",
       "  </tbody>\n",
       "</table>\n",
       "</div>"
      ],
      "text/plain": [
       "          PatientId  AppointmentID Gender          ScheduledDay  \\\n",
       "99832  4.659432e+14        5775010      F  2016-06-06T08:58:13Z   \n",
       "\n",
       "             AppointmentDay  Age Neighbourhood  Scholarship  Hipertension  \\\n",
       "99832  2016-06-06T00:00:00Z   -1         ROMÃO            0             0   \n",
       "\n",
       "       Diabetes  Alcoholism  Handcap  SMS_received No-show  \n",
       "99832         0           0        0             0      No  "
      ]
     },
     "execution_count": 8,
     "metadata": {},
     "output_type": "execute_result"
    }
   ],
   "source": [
    "# The patient with age = -1:\n",
    "df.loc[df['PatientId'] == 465943158731293]"
   ]
  },
  {
   "cell_type": "markdown",
   "metadata": {},
   "source": [
    "## Data Cleaning\n",
    "\n",
    "### Datatypes and null values:\n",
    "\n",
    "There is no null value as info() function stated, but for the datatype:\n",
    "<ul>\n",
    "    <li><strong>PatientId</strong> convert int not float. IDs are integers normally.</li>\n",
    "    <li><strong>ScheduledDay</strong> and AppintmentDay has object(string) datatype and it should be datetime datatype to analyze it easily.</li>\n",
    "</ul>"
   ]
  },
  {
   "cell_type": "code",
   "execution_count": 9,
   "metadata": {},
   "outputs": [],
   "source": [
    "#Convert PatientId to int64, using numpy's function astype(<datatype>):\n",
    "df['PatientId'] = df['PatientId'].astype('int64')\n",
    "\n",
    "#Convert the dates datatype to datetime, using pandas's function to_datetime():\n",
    "df['ScheduledDay'] = pd.to_datetime(df['ScheduledDay'])\n",
    "df['AppointmentDay'] = pd.to_datetime(df['AppointmentDay'])\n",
    "\n",
    "#Check if it converted correctly\n",
    "#df.info()\n",
    "#df.head()"
   ]
  },
  {
   "cell_type": "markdown",
   "metadata": {},
   "source": [
    "### Duplicates:\n",
    "\n",
    "Since the data frame has over 110 thousand rows, it is time consuming to check for duplicates using <strong>duplicated()</strong> function.<br>\n",
    "<strong>Sum()</strong> function will tell us the number of duplicated rows."
   ]
  },
  {
   "cell_type": "code",
   "execution_count": 10,
   "metadata": {},
   "outputs": [
    {
     "data": {
      "text/plain": [
       "0"
      ]
     },
     "execution_count": 10,
     "metadata": {},
     "output_type": "execute_result"
    }
   ],
   "source": [
    "sum(df.duplicated())"
   ]
  },
  {
   "cell_type": "markdown",
   "metadata": {},
   "source": [
    "The data frame doesn't have any duplicates. <br>"
   ]
  },
  {
   "cell_type": "markdown",
   "metadata": {},
   "source": [
    "### Columns name:\n",
    "\n",
    "For the columns' name, I would like it to be in the same format, just letters without spical characters (- or underscore). <br>\n",
    "So, <strong>SMS'underscore'received</strong> and <strong>No-show</strong> would be SMSReveived and NoShow."
   ]
  },
  {
   "cell_type": "code",
   "execution_count": 11,
   "metadata": {},
   "outputs": [],
   "source": [
    "#To change columns' name, pandas's function rename() is used:\n",
    "df = df.rename(columns={\"SMS_received\": \"SMSReceived\", \"No-show\": \"NoShow\"})"
   ]
  },
  {
   "cell_type": "markdown",
   "metadata": {},
   "source": [
    "### Aggregating New Columns\n",
    "#### DateDifference Column:\n",
    "\n",
    "I think the duration between the schedule day and appointment is important, if it is long the patient might forget the appointment date.<br>\n",
    "So, I'll add new column with that difference."
   ]
  },
  {
   "cell_type": "code",
   "execution_count": 12,
   "metadata": {},
   "outputs": [],
   "source": [
    "df['DateDifference'] = (df['AppointmentDay'] - df['ScheduledDay']).dt.days"
   ]
  },
  {
   "cell_type": "markdown",
   "metadata": {},
   "source": [
    "#### ChronicDisease Column: \n",
    "\n",
    "This column has two values 0 or 1. 0 if the patient has a chronic disease (hypertension or diabetes).<br>\n",
    "They might care more about their health and go to their appointments."
   ]
  },
  {
   "cell_type": "code",
   "execution_count": 13,
   "metadata": {},
   "outputs": [],
   "source": [
    "#To check hipertension and diabetes columns, numpy's function where(condtion/s, exprestion1, exprestion2) is used:\n",
    "df['ChronicDisease'] = np.where( (df['Hipertension']==1)|(df['Diabetes'] ==1), 1, 0)"
   ]
  },
  {
   "cell_type": "markdown",
   "metadata": {},
   "source": [
    "### Dropping unused columns\n",
    "\n",
    "After cleaning the data frame, I would like to drop the columns that I won't further use, to make improve the performance."
   ]
  },
  {
   "cell_type": "code",
   "execution_count": 14,
   "metadata": {},
   "outputs": [],
   "source": [
    "#Drop() to delete unwanted columns:\n",
    "df = df.drop(columns=['PatientId', 'AppointmentID', 'ScheduledDay', 'AppointmentDay', 'Neighbourhood', 'Scholarship', \n",
    "                      'Hipertension', 'Diabetes', 'Alcoholism', 'Handcap'])"
   ]
  },
  {
   "cell_type": "markdown",
   "metadata": {},
   "source": [
    "## Cleaning Result:\n",
    "\n",
    "After cleaning and filtering the data frame, we got a simpler table that will be used in EDA section."
   ]
  },
  {
   "cell_type": "code",
   "execution_count": 15,
   "metadata": {},
   "outputs": [
    {
     "data": {
      "text/html": [
       "<div>\n",
       "<style scoped>\n",
       "    .dataframe tbody tr th:only-of-type {\n",
       "        vertical-align: middle;\n",
       "    }\n",
       "\n",
       "    .dataframe tbody tr th {\n",
       "        vertical-align: top;\n",
       "    }\n",
       "\n",
       "    .dataframe thead th {\n",
       "        text-align: right;\n",
       "    }\n",
       "</style>\n",
       "<table border=\"1\" class=\"dataframe\">\n",
       "  <thead>\n",
       "    <tr style=\"text-align: right;\">\n",
       "      <th></th>\n",
       "      <th>Gender</th>\n",
       "      <th>Age</th>\n",
       "      <th>SMSReceived</th>\n",
       "      <th>NoShow</th>\n",
       "      <th>DateDifference</th>\n",
       "      <th>ChronicDisease</th>\n",
       "    </tr>\n",
       "  </thead>\n",
       "  <tbody>\n",
       "    <tr>\n",
       "      <th>110522</th>\n",
       "      <td>F</td>\n",
       "      <td>56</td>\n",
       "      <td>1</td>\n",
       "      <td>No</td>\n",
       "      <td>34</td>\n",
       "      <td>0</td>\n",
       "    </tr>\n",
       "    <tr>\n",
       "      <th>110523</th>\n",
       "      <td>F</td>\n",
       "      <td>51</td>\n",
       "      <td>1</td>\n",
       "      <td>No</td>\n",
       "      <td>34</td>\n",
       "      <td>0</td>\n",
       "    </tr>\n",
       "    <tr>\n",
       "      <th>110524</th>\n",
       "      <td>F</td>\n",
       "      <td>21</td>\n",
       "      <td>1</td>\n",
       "      <td>No</td>\n",
       "      <td>40</td>\n",
       "      <td>0</td>\n",
       "    </tr>\n",
       "    <tr>\n",
       "      <th>110525</th>\n",
       "      <td>F</td>\n",
       "      <td>38</td>\n",
       "      <td>1</td>\n",
       "      <td>No</td>\n",
       "      <td>40</td>\n",
       "      <td>0</td>\n",
       "    </tr>\n",
       "    <tr>\n",
       "      <th>110526</th>\n",
       "      <td>F</td>\n",
       "      <td>54</td>\n",
       "      <td>1</td>\n",
       "      <td>No</td>\n",
       "      <td>40</td>\n",
       "      <td>0</td>\n",
       "    </tr>\n",
       "  </tbody>\n",
       "</table>\n",
       "</div>"
      ],
      "text/plain": [
       "       Gender  Age  SMSReceived NoShow  DateDifference  ChronicDisease\n",
       "110522      F   56            1     No              34               0\n",
       "110523      F   51            1     No              34               0\n",
       "110524      F   21            1     No              40               0\n",
       "110525      F   38            1     No              40               0\n",
       "110526      F   54            1     No              40               0"
      ]
     },
     "execution_count": 15,
     "metadata": {},
     "output_type": "execute_result"
    }
   ],
   "source": [
    "df.tail()"
   ]
  },
  {
   "cell_type": "markdown",
   "metadata": {},
   "source": [
    "<a id='eda'></a>\n",
    "## Exploratory Data Analysis\n",
    "\n",
    "To start off, I divided the data frame into two different data frames based on show up factor."
   ]
  },
  {
   "cell_type": "code",
   "execution_count": 16,
   "metadata": {},
   "outputs": [],
   "source": [
    "df_show = df[df['NoShow'] == 'No']\n",
    "df_noshow = df[df['NoShow'] == 'Yes']"
   ]
  },
  {
   "cell_type": "markdown",
   "metadata": {},
   "source": [
    "### Q1: Is the patients' age and gender will help us to predict if a they will show up for their scheduled appointment?\n",
    "\n",
    "#### Gender:"
   ]
  },
  {
   "cell_type": "code",
   "execution_count": 17,
   "metadata": {},
   "outputs": [
    {
     "data": {
      "image/png": "[encoded data removed]",
      "text/plain": [
       "<Figure size 432x288 with 1 Axes>"
      ]
     },
     "metadata": {
      "needs_background": "light"
     },
     "output_type": "display_data"
    }
   ],
   "source": [
    "#df.groupby('Gender')['NoShow'].count().plot(kind = 'bar', title='Gender and show up',\n",
    " #                                            color = ['Pink', 'blue'], alpha=0.7, fontsize = 12)\n",
    "df_show.groupby('Gender')['NoShow'].count().plot(kind='bar', color = '#11662F', alpha = 0.7, edgecolor = '#39393B',\n",
    "                                           fontsize= 12, label = 'Show Up')\n",
    "df_noshow.groupby('Gender')['NoShow'].count().plot(kind='bar', color = '#FF0D31', alpha = 0.7, edgecolor = '#39393B',\n",
    "                                           fontsize= 12, label = 'No Show')\n",
    "plt.xticks(np.arange(2), ('Female', 'Male'), rotation=0)\n",
    "plt.legend()\n",
    "plt.xlabel('Patients\\' Gender', fontsize = 11.5)\n",
    "plt.ylabel('No of show up and no show', fontsize = 11.5)\n",
    "plt.show()"
   ]
  },
  {
   "cell_type": "markdown",
   "metadata": {},
   "source": [
    "#### Result:\n",
    "Female patients number are more than male patients, and females have more no show up than males. So patients' gender won't help us in predecting  if patients will show up for their scheduled appointment."
   ]
  },
  {
   "cell_type": "markdown",
   "metadata": {},
   "source": [
    "#### Age:"
   ]
  },
  {
   "cell_type": "code",
   "execution_count": 18,
   "metadata": {},
   "outputs": [
    {
     "data": {
      "image/png": "[encoded data removed]",
      "text/plain": [
       "<Figure size 720x720 with 1 Axes>"
      ]
     },
     "metadata": {
      "needs_background": "light"
     },
     "output_type": "display_data"
    }
   ],
   "source": [
    "df_show['Age'].hist(alpha = 0.7, label = 'Show Up', \n",
    "                    figsize = (10, 10), color = '#11662F')\n",
    "df_noshow['Age'].hist(alpha = 0.7, label = 'No Show', \n",
    "                      figsize = (10, 10), color = '#FF0D31')\n",
    "plt.legend()\n",
    "plt.xlabel('Patients\\' Age', fontsize = 13)\n",
    "plt.ylabel('No of show up and no show', fontsize = 13)\n",
    "plt.show()"
   ]
  },
  {
   "cell_type": "markdown",
   "metadata": {},
   "source": [
    "#### Result:\n",
    "Patients' age graphs are <strong>skewed right</strong>.<br>\n",
    "<ul>\n",
    "<li>The age gruop (0-10) are more likely to show up.</li>\n",
    "<li>The age gruop (0-10) and (23-35) are more likely to miss their appoinments.</li>\n",
    "</ul>\n",
    "Age group (0-10) have the largest value in both graphs.<br>\n",
    "Since we have different number of patient for each age group, the age factor seems to be useless in predecting if patients will show up for their scheduled appointment."
   ]
  },
  {
   "cell_type": "markdown",
   "metadata": {},
   "source": [
    "### Q2: Will the patients show up for their scheduled appointment if they've recevied a SMS?"
   ]
  },
  {
   "cell_type": "code",
   "execution_count": 19,
   "metadata": {},
   "outputs": [
    {
     "data": {
      "image/png": "[encoded data removed]",
      "text/plain": [
       "<Figure size 432x288 with 1 Axes>"
      ]
     },
     "metadata": {
      "needs_background": "light"
     },
     "output_type": "display_data"
    }
   ],
   "source": [
    "df_show.groupby('SMSReceived')['NoShow'].count().plot(kind='line', color = '#11662F', alpha = 0.8,\n",
    "                                           fontsize= 12, label = 'Show Up')\n",
    "df_noshow.groupby('SMSReceived')['NoShow'].count().plot(kind='line', color = '#FF0D31', alpha = 0.8, \n",
    "                                           fontsize= 12, label = 'No Show')\n",
    "plt.xticks(np.arange(2), ('Recevied', 'Not Recevied'), rotation=0)\n",
    "plt.legend()\n",
    "plt.ylabel('No of show up and no show', fontsize = 11.5)\n",
    "plt.show()"
   ]
  },
  {
   "cell_type": "markdown",
   "metadata": {},
   "source": [
    "#### Result:\n",
    "\n",
    "The patient who did not recevie the SMS are more than the patients who recevied it.For no show graph, the patients number are almost equal for both gruops. SMS do not effect the no show factor. SMS won't help us in predecting  if patients will show up for their scheduled appointment."
   ]
  },
  {
   "cell_type": "markdown",
   "metadata": {},
   "source": [
    "### Q3: Is the patients' health record will help us to predict if a they will show up for their scheduled appointment?"
   ]
  },
  {
   "cell_type": "code",
   "execution_count": 20,
   "metadata": {},
   "outputs": [
    {
     "data": {
      "image/png": "[encoded data removed]",
      "text/plain": [
       "<Figure size 432x288 with 1 Axes>"
      ]
     },
     "metadata": {
      "needs_background": "light"
     },
     "output_type": "display_data"
    }
   ],
   "source": [
    "df_show.groupby('ChronicDisease')['NoShow'].count().plot(kind='bar', color = '#11662F', alpha = 0.7, edgecolor = '#39393B',\n",
    "                                           fontsize= 12, label = 'Show Up')\n",
    "df_noshow.groupby('ChronicDisease')['NoShow'].count().plot(kind='bar', color = '#FF0D31', alpha = 0.7, edgecolor = '#39393B',\n",
    "                                           fontsize= 12, label = 'No Show')\n",
    "plt.xticks(np.arange(2), ('Don\\'t Have','Have Chronic Disease' ), rotation=0)\n",
    "plt.legend()\n",
    "plt.ylabel('No of show up and no show', fontsize = 11.5)\n",
    "plt.show()"
   ]
  },
  {
   "cell_type": "code",
   "execution_count": 21,
   "metadata": {},
   "outputs": [
    {
     "data": {
      "text/plain": [
       "Text(0.5,1,\"'No Show' Average for Chronic Disease factor\")"
      ]
     },
     "execution_count": 21,
     "metadata": {},
     "output_type": "execute_result"
    },
    {
     "data": {
      "image/png": "[encoded data removed]",
      "text/plain": [
       "<Figure size 432x288 with 1 Axes>"
      ]
     },
     "metadata": {},
     "output_type": "display_data"
    }
   ],
   "source": [
    "#Find the mean \n",
    "NoShowMean = df.groupby('ChronicDisease').count() / df.count()\n",
    "NoShowMean['NoShow'].plot(kind='pie', colors = ['#2A9CB2', '#FFC28E'], labels = ['Don\\'t Have','Have Chronic Disease'])\n",
    "plt.title('\\'No Show\\' Average for Chronic Disease factor', fontsize = 16)"
   ]
  },
  {
   "cell_type": "markdown",
   "metadata": {},
   "source": [
    "#### Result:\n",
    "\n",
    "The patients who do not have a chronic diseases are more than the patients who have for both graphs. \n",
    "The pie chart shows that about quarter of the 'NoShow' are patients with chronic diseases.<br> \n",
    "Chronic disease factor do not effect the no show factor.Chronic factor won't help us in predecting if patients will show up for their scheduled appointment.<br>"
   ]
  },
  {
   "cell_type": "markdown",
   "metadata": {},
   "source": [
    "### Q4: Is the duration between the day the patients scheduled thier appointment and the appointment day will help us to predict if they will show up to thier scheduled appointment?"
   ]
  },
  {
   "cell_type": "code",
   "execution_count": 22,
   "metadata": {},
   "outputs": [
    {
     "data": {
      "image/png": "[encoded data removed]",
      "text/plain": [
       "<Figure size 720x720 with 1 Axes>"
      ]
     },
     "metadata": {
      "needs_background": "light"
     },
     "output_type": "display_data"
    }
   ],
   "source": [
    "df_show['DateDifference'].hist(alpha = 0.7, label = 'Show Up', \n",
    "                    figsize = (10, 10), color = '#11662F')\n",
    "df_noshow['DateDifference'].hist(alpha = 0.7, label = 'No Show', \n",
    "                      figsize = (10, 10), color = '#FF0D31')\n",
    "plt.legend()\n",
    "plt.xlabel('Dates Difference', fontsize = 13)\n",
    "plt.ylabel('No of show up and no show', fontsize = 13)\n",
    "plt.show()"
   ]
  },
  {
   "cell_type": "markdown",
   "metadata": {},
   "source": [
    "#### Result:\n",
    "The date difference graphs are <strong>skewed right</strong>.<br>\n",
    "<ul>\n",
    "<li>The date differnace between 0-17 days have significantly more number of patients and showing up.</li>\n",
    "</ul>\n",
    "It seems that the date differnce effect the showing up factor. The patients with date differnace less than 17 are more likely to show up."
   ]
  },
  {
   "cell_type": "markdown",
   "metadata": {},
   "source": [
    "<a id='conclusions'></a>\n",
    "## Conclusions\n",
    "\n",
    "After testing a set of factors to see whither the patients will show up or not with five independent varialbes (age, gender, SMS, chronic disease and date differeance), the result is only date differance will help us to predict if patient will show up or not.\n",
    "\n",
    "### Limitations:\n",
    "The data frame dosen't have equal number of patients for each tested gruops.\n",
    "\n"
   ]
  },
  {
   "cell_type": "code",
   "execution_count": 23,
   "metadata": {},
   "outputs": [
    {
     "data": {
      "text/plain": [
       "0"
      ]
     },
     "execution_count": 23,
     "metadata": {},
     "output_type": "execute_result"
    }
   ],
   "source": [
    "from subprocess import call\n",
    "call(['python', '-m', 'nbconvert', 'Investigate_a_Dataset.ipynb'])"
   ]
  },
  {
   "cell_type": "code",
   "execution_count": null,
   "metadata": {},
   "outputs": [],
   "source": []
  }
 ],
 "metadata": {
  "kernelspec": {
   "display_name": "Python 3",
   "language": "python",
   "name": "python3"
  },
  "language_info": {
   "codemirror_mode": {
    "name": "ipython",
    "version": 3
   },
   "file_extension": ".py",
   "mimetype": "text/x-python",
   "name": "python",
   "nbconvert_exporter": "python",
   "pygments_lexer": "ipython3",
   "version": "3.7.0"
  }
 },
 "nbformat": 4,
 "nbformat_minor": 2
}
